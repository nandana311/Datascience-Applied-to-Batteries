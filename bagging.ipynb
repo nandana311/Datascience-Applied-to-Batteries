{
 "cells": [
  {
   "cell_type": "code",
   "execution_count": 1,
   "metadata": {},
   "outputs": [],
   "source": [
    "import pandas as pd\n",
    "df = pd.read_csv(\"merged_df\")"
   ]
  },
  {
   "cell_type": "code",
   "execution_count": 2,
   "metadata": {},
   "outputs": [
    {
     "name": "stdout",
     "output_type": "stream",
     "text": [
      "10    6726687\n",
      "0     6726687\n",
      "Name: label, dtype: int64\n"
     ]
    }
   ],
   "source": [
    "from tqdm import tqdm\n",
    "import pandas as pd\n",
    "from imblearn.over_sampling import RandomOverSampler\n",
    "from sklearn.model_selection import train_test_split, cross_val_score\n",
    "from sklearn.metrics import accuracy_score, classification_report, confusion_matrix\n",
    "\n",
    "from sklearn.neighbors import KNeighborsClassifier\n",
    "from sklearn.svm import SVC\n",
    "from sklearn.ensemble import BaggingClassifier\n",
    "from sklearn.tree import DecisionTreeClassifier\n",
    "\n",
    "from sklearn.metrics import accuracy_score, classification_report\n",
    "\n",
    "# Assuming df is your DataFrame\n",
    "# Replace 'target_variable' with your actual target variable\n",
    "X = df[['soc','sum_current', 'median_current', 'iqr_current', 'mode_volt', 'variance_current', 'kurtosis_current', 'median_volt', 'mean_volt',  'mean_current', 'max_temp', 'min_temp', 'std_current']]\n",
    "\n",
    "y = df['label']\n",
    "\n",
    "# Split the data into training and testing sets\n",
    "X_train, X_test, y_train, y_test = train_test_split(X, y, test_size=0.3, random_state=42)\n",
    "\n",
    "# Initialize RandomOverSampler\n",
    "oversampler = RandomOverSampler(random_state=42)\n",
    "\n",
    "# Fit and transform the training data\n",
    "X_train_resampled, y_train_resampled = oversampler.fit_resample(X_train, y_train)\n",
    "\n",
    "# Check the class distribution after oversampling\n",
    "print(pd.Series(y_train_resampled).value_counts())"
   ]
  },
  {
   "cell_type": "code",
   "execution_count": 3,
   "metadata": {},
   "outputs": [
    {
     "name": "stderr",
     "output_type": "stream",
     "text": [
      "100%|██████████| 10/10 [7:47:14<00:00, 2803.46s/it] \n"
     ]
    },
    {
     "name": "stdout",
     "output_type": "stream",
     "text": [
      "Bagging Decision Tree Accuracy: 0.7842694402680503\n",
      "Classification Report:\n",
      "              precision    recall  f1-score   support\n",
      "\n",
      "           0       0.93      0.79      0.85   2884189\n",
      "          10       0.49      0.78      0.60    759305\n",
      "\n",
      "    accuracy                           0.78   3643494\n",
      "   macro avg       0.71      0.78      0.73   3643494\n",
      "weighted avg       0.84      0.78      0.80   3643494\n",
      "\n",
      "Confusion Matrix:\n",
      "[[2267789  616400]\n",
      " [ 169613  589692]]\n"
     ]
    }
   ],
   "source": [
    "# df.drop(['car','charge_segment'],axis=1,inplace=True)\n",
    "# Initialize Decision Tree classifier (base estimator)\n",
    "base_classifier = DecisionTreeClassifier(max_depth=3)  # Adjust max_depth as needed\n",
    "\n",
    "# Initialize Bagging classifier\n",
    "bagging_model = BaggingClassifier(base_classifier, n_estimators=50, random_state=42, verbose = 1)  # Adjust n_estimators as needed\n",
    "\n",
    "# Train the model\n",
    "for _ in tqdm(range(10)):\n",
    "    bagging_model.fit(X_train_resampled, y_train_resampled)\n",
    "\n",
    "# Make predictions on the test set\n",
    "y_pred_bagging = bagging_model.predict(X_test)\n",
    "\n",
    "# Evaluate the model\n",
    "accuracy_bagging = accuracy_score(y_test, y_pred_bagging)\n",
    "print(f'Bagging Decision Tree Accuracy: {accuracy_bagging}')\n",
    "print('Classification Report:')\n",
    "print(classification_report(y_test, y_pred_bagging))\n",
    "\n",
    "# Confusion Matrix\n",
    "conf_matrix = confusion_matrix(y_test, y_pred_bagging)\n",
    "print('Confusion Matrix:')\n",
    "print(conf_matrix)\n"
   ]
  }
 ],
 "metadata": {
  "kernelspec": {
   "display_name": "base",
   "language": "python",
   "name": "python3"
  },
  "language_info": {
   "codemirror_mode": {
    "name": "ipython",
    "version": 3
   },
   "file_extension": ".py",
   "mimetype": "text/x-python",
   "name": "python",
   "nbconvert_exporter": "python",
   "pygments_lexer": "ipython3",
   "version": "3.9.13"
  }
 },
 "nbformat": 4,
 "nbformat_minor": 2
}
